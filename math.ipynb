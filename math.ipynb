{
 "cells": [
  {
   "cell_type": "markdown",
   "metadata": {},
   "source": [
    "#数学之美--读后感\n",
    "\n",
    "### 勾股定理（毕达哥拉斯定理）\n",
    "$$x^2 + y^2 = z^2$$\n",
    "\n",
    "### 费马大定理\n",
    "$$x^n + y^n ≠ z^n(x,y,n\\in\\mathbb{N1},n\\ge3)$$\n",
    " 费马大定理由17世纪法国数学家皮耶·德·费玛提出，历经三百多年的历史，最终在1995年被英国数学家安德鲁·怀尔斯彻底证明。\n",
    "\n",
    "### 黎曼猜想\n",
    "$$\\zeta(s)=\\sum_{n=1}^\\infty\\frac{1}{n^s}(Re(s) > 1, n\\in\\mathbb{N1})$$\n",
    "\n",
    " ζ 函数的所有非平凡零点都位于复平面上 Re(s)=1/2 的直线上，也即方程ζ(s)=0的解的实部都是1/2,至今未被证明。黎曼猜想是关于素数分布的问题，素数也就是质数。\n",
    "\n",
    "### RSA加密与解密\n",
    " 加密函数 $m^e \\equiv c\\pmod{n}$\n",
    " 解密函数 $c^d \\equiv m\\pmod{n}$\n",
    "\n",
    "#### 原理\n",
    "1. 找到两个互不相等的素数p、q\n",
    "2. 计算p和q的乘积n。n = p * q\n",
    "3. 计算n的欧拉函数$\\phi(n)$：\n",
    "    $$\\phi(n) = (p -1)*(q - 1)$$\n",
    "4. 随机选取一个整数e，e与$\\phi(n)$互质，并且e满足如下条件：\n",
    "    $$1 < e < \\phi(n)$$\n",
    "5. 计算e对于$\\phi(n)$的模反元素d($d\\in\\mathbb{Z}$)：\n",
    "   $$e*d \\equiv 1\\pmod{\\phi(n)}$$\n",
    "\n",
    " 根据上面五个步骤，我们得到了p、q、n、e、d、$\\phi(n)$。其中（n，e）为公钥、（n，d）为私钥\n",
    "\n",
    "#### 安全性--破解私钥(n,d)\n",
    ">\"对极大整数做因数分解的难度决定了RSA算法的可靠性。换言之，对一极大整数做因数分解愈困难，RSA算法愈可靠。\n",
    ">\n",
    ">　　假如有人找到一种快速因数分解的算法，那么RSA的可靠性就会极度下降。但找到这样的算法的可能性是非常小的。今天只有短的RSA密钥才可能被暴力破解。到2008年为止，世界上还没有任何可靠的攻击RSA算法的方式。\n",
    ">\n",
    ">　　只要密钥长度足够长，用RSA加密的信息实际上是不能被解破的。\""
   ]
  },
  {
   "cell_type": "code",
   "execution_count": null,
   "metadata": {},
   "outputs": [],
   "source": []
  }
 ],
 "metadata": {
  "kernelspec": {
   "display_name": "Python 3",
   "language": "python",
   "name": "python3"
  },
  "language_info": {
   "codemirror_mode": {
    "name": "ipython",
    "version": 3
   },
   "file_extension": ".py",
   "mimetype": "text/x-python",
   "name": "python",
   "nbconvert_exporter": "python",
   "pygments_lexer": "ipython3",
   "version": "3.7.0"
  }
 },
 "nbformat": 4,
 "nbformat_minor": 2
}
